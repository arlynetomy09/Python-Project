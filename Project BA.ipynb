{
 "cells": [
  {
   "cell_type": "markdown",
   "metadata": {},
   "source": [
    "## Importing all the necessary libraries"
   ]
  },
  {
   "cell_type": "code",
   "execution_count": 152,
   "metadata": {},
   "outputs": [],
   "source": [
    "#importing libraries\n",
    "import pandas as pd\n",
    "import numpy as np\n",
    "import matplotlib.pyplot as plt\n",
    "import seaborn as sns\n",
    "import datetime\n",
    "%matplotlib inline\n",
    "sns.set_style('whitegrid')"
   ]
  },
  {
   "cell_type": "markdown",
   "metadata": {},
   "source": [
    "## Reading the Excel data file"
   ]
  },
  {
   "cell_type": "code",
   "execution_count": 137,
   "metadata": {},
   "outputs": [],
   "source": [
    "#importing excel file\n",
    "df = pd.read_excel(\"Business Analyst-Case Study.xlsx\", sheet_name ='dataset')"
   ]
  },
  {
   "cell_type": "markdown",
   "metadata": {},
   "source": [
    "## Checking how our data looks like and gathering basic info about it"
   ]
  },
  {
   "cell_type": "code",
   "execution_count": 5,
   "metadata": {},
   "outputs": [
    {
     "data": {
      "text/html": [
       "<div>\n",
       "<style scoped>\n",
       "    .dataframe tbody tr th:only-of-type {\n",
       "        vertical-align: middle;\n",
       "    }\n",
       "\n",
       "    .dataframe tbody tr th {\n",
       "        vertical-align: top;\n",
       "    }\n",
       "\n",
       "    .dataframe thead th {\n",
       "        text-align: right;\n",
       "    }\n",
       "</style>\n",
       "<table border=\"1\" class=\"dataframe\">\n",
       "  <thead>\n",
       "    <tr style=\"text-align: right;\">\n",
       "      <th></th>\n",
       "      <th>Call Date</th>\n",
       "      <th>Account Angaza ID</th>\n",
       "      <th>Call Type</th>\n",
       "      <th>Next Payment Date</th>\n",
       "      <th>Payment_time</th>\n",
       "    </tr>\n",
       "  </thead>\n",
       "  <tbody>\n",
       "    <tr>\n",
       "      <td>0</td>\n",
       "      <td>2018-03-01</td>\n",
       "      <td>1072717</td>\n",
       "      <td>Followup_call</td>\n",
       "      <td>2018-03-01</td>\n",
       "      <td>0.0</td>\n",
       "    </tr>\n",
       "    <tr>\n",
       "      <td>1</td>\n",
       "      <td>2018-03-01</td>\n",
       "      <td>1151658</td>\n",
       "      <td>1st_call</td>\n",
       "      <td>2018-03-01</td>\n",
       "      <td>0.0</td>\n",
       "    </tr>\n",
       "    <tr>\n",
       "      <td>2</td>\n",
       "      <td>2018-03-01</td>\n",
       "      <td>497633</td>\n",
       "      <td>Followup_call</td>\n",
       "      <td>2018-03-01</td>\n",
       "      <td>0.0</td>\n",
       "    </tr>\n",
       "    <tr>\n",
       "      <td>3</td>\n",
       "      <td>2018-03-01</td>\n",
       "      <td>1186908</td>\n",
       "      <td>Followup_call</td>\n",
       "      <td>2018-03-01</td>\n",
       "      <td>0.0</td>\n",
       "    </tr>\n",
       "    <tr>\n",
       "      <td>4</td>\n",
       "      <td>2018-03-01</td>\n",
       "      <td>84150</td>\n",
       "      <td>Followup_call</td>\n",
       "      <td>2018-03-01</td>\n",
       "      <td>0.0</td>\n",
       "    </tr>\n",
       "  </tbody>\n",
       "</table>\n",
       "</div>"
      ],
      "text/plain": [
       "   Call Date  Account Angaza ID      Call Type  Next Payment Date  \\\n",
       "0 2018-03-01            1072717  Followup_call         2018-03-01   \n",
       "1 2018-03-01            1151658       1st_call         2018-03-01   \n",
       "2 2018-03-01             497633  Followup_call         2018-03-01   \n",
       "3 2018-03-01            1186908  Followup_call         2018-03-01   \n",
       "4 2018-03-01              84150  Followup_call         2018-03-01   \n",
       "\n",
       "   Payment_time  \n",
       "0           0.0  \n",
       "1           0.0  \n",
       "2           0.0  \n",
       "3           0.0  \n",
       "4           0.0  "
      ]
     },
     "execution_count": 5,
     "metadata": {},
     "output_type": "execute_result"
    }
   ],
   "source": [
    "#checking how our database looklike\n",
    "df.head()"
   ]
  },
  {
   "cell_type": "code",
   "execution_count": 6,
   "metadata": {},
   "outputs": [
    {
     "name": "stdout",
     "output_type": "stream",
     "text": [
      "<class 'pandas.core.frame.DataFrame'>\n",
      "RangeIndex: 535016 entries, 0 to 535015\n",
      "Data columns (total 5 columns):\n",
      "Call Date             535016 non-null datetime64[ns]\n",
      "Account Angaza ID     535016 non-null int64\n",
      "Call Type             535016 non-null object\n",
      " Next Payment Date    459299 non-null datetime64[ns]\n",
      "Payment_time          459299 non-null float64\n",
      "dtypes: datetime64[ns](2), float64(1), int64(1), object(1)\n",
      "memory usage: 20.4+ MB\n"
     ]
    }
   ],
   "source": [
    "df.info()"
   ]
  },
  {
   "cell_type": "markdown",
   "metadata": {},
   "source": [
    "## Adding a new column to identify any pattern on weekdays"
   ]
  },
  {
   "cell_type": "code",
   "execution_count": 138,
   "metadata": {},
   "outputs": [
    {
     "data": {
      "text/html": [
       "<div>\n",
       "<style scoped>\n",
       "    .dataframe tbody tr th:only-of-type {\n",
       "        vertical-align: middle;\n",
       "    }\n",
       "\n",
       "    .dataframe tbody tr th {\n",
       "        vertical-align: top;\n",
       "    }\n",
       "\n",
       "    .dataframe thead th {\n",
       "        text-align: right;\n",
       "    }\n",
       "</style>\n",
       "<table border=\"1\" class=\"dataframe\">\n",
       "  <thead>\n",
       "    <tr style=\"text-align: right;\">\n",
       "      <th></th>\n",
       "      <th>Call Date</th>\n",
       "      <th>Account Angaza ID</th>\n",
       "      <th>Call Type</th>\n",
       "      <th>Next Payment Date</th>\n",
       "      <th>Payment_time</th>\n",
       "      <th>Weekdayno</th>\n",
       "      <th>Weekday</th>\n",
       "    </tr>\n",
       "  </thead>\n",
       "  <tbody>\n",
       "    <tr>\n",
       "      <td>0</td>\n",
       "      <td>2018-03-01</td>\n",
       "      <td>1072717</td>\n",
       "      <td>Followup_call</td>\n",
       "      <td>2018-03-01</td>\n",
       "      <td>0.0</td>\n",
       "      <td>3</td>\n",
       "      <td>Thu</td>\n",
       "    </tr>\n",
       "    <tr>\n",
       "      <td>1</td>\n",
       "      <td>2018-03-01</td>\n",
       "      <td>1151658</td>\n",
       "      <td>1st_call</td>\n",
       "      <td>2018-03-01</td>\n",
       "      <td>0.0</td>\n",
       "      <td>3</td>\n",
       "      <td>Thu</td>\n",
       "    </tr>\n",
       "    <tr>\n",
       "      <td>2</td>\n",
       "      <td>2018-03-01</td>\n",
       "      <td>497633</td>\n",
       "      <td>Followup_call</td>\n",
       "      <td>2018-03-01</td>\n",
       "      <td>0.0</td>\n",
       "      <td>3</td>\n",
       "      <td>Thu</td>\n",
       "    </tr>\n",
       "    <tr>\n",
       "      <td>3</td>\n",
       "      <td>2018-03-01</td>\n",
       "      <td>1186908</td>\n",
       "      <td>Followup_call</td>\n",
       "      <td>2018-03-01</td>\n",
       "      <td>0.0</td>\n",
       "      <td>3</td>\n",
       "      <td>Thu</td>\n",
       "    </tr>\n",
       "    <tr>\n",
       "      <td>4</td>\n",
       "      <td>2018-03-01</td>\n",
       "      <td>84150</td>\n",
       "      <td>Followup_call</td>\n",
       "      <td>2018-03-01</td>\n",
       "      <td>0.0</td>\n",
       "      <td>3</td>\n",
       "      <td>Thu</td>\n",
       "    </tr>\n",
       "  </tbody>\n",
       "</table>\n",
       "</div>"
      ],
      "text/plain": [
       "   Call Date  Account Angaza ID      Call Type  Next Payment Date  \\\n",
       "0 2018-03-01            1072717  Followup_call         2018-03-01   \n",
       "1 2018-03-01            1151658       1st_call         2018-03-01   \n",
       "2 2018-03-01             497633  Followup_call         2018-03-01   \n",
       "3 2018-03-01            1186908  Followup_call         2018-03-01   \n",
       "4 2018-03-01              84150  Followup_call         2018-03-01   \n",
       "\n",
       "   Payment_time  Weekdayno Weekday  \n",
       "0           0.0          3     Thu  \n",
       "1           0.0          3     Thu  \n",
       "2           0.0          3     Thu  \n",
       "3           0.0          3     Thu  \n",
       "4           0.0          3     Thu  "
      ]
     },
     "execution_count": 138,
     "metadata": {},
     "output_type": "execute_result"
    }
   ],
   "source": [
    "dmap = {0:'Mon',1:'Tue',2:'Wed',3:'Thu',4:'Fri',5:'Sat',6:'Sun'}\n",
    "df['Weekdayno']=df['Call Date'].dt.dayofweek\n",
    "df['Weekday']=df['Weekdayno'].map(dmap)\n",
    "df.head()"
   ]
  },
  {
   "cell_type": "markdown",
   "metadata": {},
   "source": [
    "## Exploratory Data Analysis (EDA)"
   ]
  },
  {
   "cell_type": "code",
   "execution_count": 142,
   "metadata": {},
   "outputs": [
    {
     "data": {
      "text/plain": [
       "count    459299.000000\n",
       "mean         11.696366\n",
       "std          17.015614\n",
       "min           0.000000\n",
       "25%           1.000000\n",
       "50%           5.000000\n",
       "75%          14.000000\n",
       "max         120.000000\n",
       "Name: Payment_time, dtype: float64"
      ]
     },
     "execution_count": 142,
     "metadata": {},
     "output_type": "execute_result"
    }
   ],
   "source": [
    "# Payment_time tells in how many days a user has completed the payment\n",
    "df['Payment_time'].describe()"
   ]
  },
  {
   "cell_type": "markdown",
   "metadata": {},
   "source": [
    "### Here on an average a person takes 11.69 days to complete the payment whereas 50% of our users complete the payment in less than or equal to 5 days"
   ]
  },
  {
   "cell_type": "markdown",
   "metadata": {},
   "source": [
    "## Plotting a few graphs to understand our data better"
   ]
  },
  {
   "cell_type": "code",
   "execution_count": 144,
   "metadata": {},
   "outputs": [
    {
     "data": {
      "image/png": "[encoded data removed]",
      "text/plain": [
       "<Figure size 432x288 with 1 Axes>"
      ]
     },
     "metadata": {
      "needs_background": "light"
     },
     "output_type": "display_data"
    }
   ],
   "source": [
    "plt.xlim(0,60)\n",
    "sns.distplot(df[df['Payment_time'].notnull()]['Payment_time'],kde=False,bins=50,color ='red')\n",
    "plt.title('Customer distribution -Time taken to Pay in Days')\n",
    "plt.tight_layout()\n",
    "# it tells that we have a right skewed distribution or positive distribution where median< mean\n",
    "# tail at right hand side"
   ]
  },
  {
   "cell_type": "markdown",
   "metadata": {},
   "source": [
    "## Since the data is right skewed, median gives a more appropriate idea of data distribution"
   ]
  },
  {
   "cell_type": "markdown",
   "metadata": {},
   "source": [
    "## Answer of Question 1\n",
    "### Suitable X = 5"
   ]
  },
  {
   "cell_type": "code",
   "execution_count": 145,
   "metadata": {},
   "outputs": [
    {
     "data": {
      "text/plain": [
       "<matplotlib.axes._subplots.AxesSubplot at 0xe393bd2408>"
      ]
     },
     "execution_count": 145,
     "metadata": {},
     "output_type": "execute_result"
    },
    {
     "data": {
      "image/png": "[encoded data removed]",
      "text/plain": [
       "<Figure size 432x288 with 1 Axes>"
      ]
     },
     "metadata": {
      "needs_background": "light"
     },
     "output_type": "display_data"
    }
   ],
   "source": [
    "sns.countplot(x='Call Type',data= df)"
   ]
  },
  {
   "cell_type": "code",
   "execution_count": 148,
   "metadata": {},
   "outputs": [
    {
     "data": {
      "text/plain": [
       "<matplotlib.axes._subplots.AxesSubplot at 0xe3a570bc88>"
      ]
     },
     "execution_count": 148,
     "metadata": {},
     "output_type": "execute_result"
    },
    {
     "data": {
      "image/png": "[encoded data removed]",
      "text/plain": [
       "<Figure size 432x288 with 1 Axes>"
      ]
     },
     "metadata": {
      "needs_background": "light"
     },
     "output_type": "display_data"
    }
   ],
   "source": [
    "sns.boxplot(x='Call Type',y='Payment_time',data = df)"
   ]
  },
  {
   "cell_type": "markdown",
   "metadata": {},
   "source": [
    "## In the above box plot is clearly observed that customers who got 1st_call took lesser number of days to complete the payment than the customers who received the followup_call"
   ]
  },
  {
   "cell_type": "code",
   "execution_count": 155,
   "metadata": {},
   "outputs": [
    {
     "data": {
      "text/plain": [
       "<matplotlib.axes._subplots.AxesSubplot at 0xe399739088>"
      ]
     },
     "execution_count": 155,
     "metadata": {},
     "output_type": "execute_result"
    },
    {
     "data": {
      "image/png": "[encoded data removed]",
      "text/plain": [
       "<Figure size 432x288 with 1 Axes>"
      ]
     },
     "metadata": {},
     "output_type": "display_data"
    }
   ],
   "source": [
    "#plt.xlim([datetime.date(2018, 1, 12), datetime.date(2018, 3, 1)])\n",
    "df['Call Date'].value_counts().plot()\n",
    "df[df[' Next Payment Date'].notnull()][' Next Payment Date'].value_counts().plot()"
   ]
  },
  {
   "cell_type": "code",
   "execution_count": 166,
   "metadata": {},
   "outputs": [],
   "source": [
    "totalcalls = df.groupby(['Call Date','Call Type','Weekday']).count()['Account Angaza ID']\n",
    "paymentdone = df.groupby([' Next Payment Date','Call Type','Weekday']).count()['Payment_time']"
   ]
  },
  {
   "cell_type": "code",
   "execution_count": 167,
   "metadata": {},
   "outputs": [],
   "source": [
    "df_new = pd.concat([totalcalls,paymentdone],axis=1)\n",
    "df_new.rename(columns={'Account Angaza ID':'Calls Made','Payment_time':'Successful Payment'},inplace= True)\n",
    "df_new['Percentage conversion']=df_new['Successful Payment']*100/df_new['Calls Made']"
   ]
  },
  {
   "cell_type": "code",
   "execution_count": 168,
   "metadata": {},
   "outputs": [
    {
     "data": {
      "text/html": [
       "<div>\n",
       "<style scoped>\n",
       "    .dataframe tbody tr th:only-of-type {\n",
       "        vertical-align: middle;\n",
       "    }\n",
       "\n",
       "    .dataframe tbody tr th {\n",
       "        vertical-align: top;\n",
       "    }\n",
       "\n",
       "    .dataframe thead th {\n",
       "        text-align: right;\n",
       "    }\n",
       "</style>\n",
       "<table border=\"1\" class=\"dataframe\">\n",
       "  <thead>\n",
       "    <tr style=\"text-align: right;\">\n",
       "      <th></th>\n",
       "      <th>level_0</th>\n",
       "      <th>level_1</th>\n",
       "      <th>level_2</th>\n",
       "      <th>Calls Made</th>\n",
       "      <th>Successful Payment</th>\n",
       "      <th>Percentage conversion</th>\n",
       "    </tr>\n",
       "  </thead>\n",
       "  <tbody>\n",
       "    <tr>\n",
       "      <td>0</td>\n",
       "      <td>2018-01-12</td>\n",
       "      <td>1st_call</td>\n",
       "      <td>Fri</td>\n",
       "      <td>3513.0</td>\n",
       "      <td>725</td>\n",
       "      <td>20.637632</td>\n",
       "    </tr>\n",
       "    <tr>\n",
       "      <td>1</td>\n",
       "      <td>2018-01-12</td>\n",
       "      <td>Followup_call</td>\n",
       "      <td>Fri</td>\n",
       "      <td>272.0</td>\n",
       "      <td>33</td>\n",
       "      <td>12.132353</td>\n",
       "    </tr>\n",
       "    <tr>\n",
       "      <td>2</td>\n",
       "      <td>2018-01-13</td>\n",
       "      <td>1st_call</td>\n",
       "      <td>Fri</td>\n",
       "      <td>NaN</td>\n",
       "      <td>456</td>\n",
       "      <td>NaN</td>\n",
       "    </tr>\n",
       "    <tr>\n",
       "      <td>3</td>\n",
       "      <td>2018-01-13</td>\n",
       "      <td>1st_call</td>\n",
       "      <td>Sat</td>\n",
       "      <td>3722.0</td>\n",
       "      <td>726</td>\n",
       "      <td>19.505642</td>\n",
       "    </tr>\n",
       "    <tr>\n",
       "      <td>4</td>\n",
       "      <td>2018-01-13</td>\n",
       "      <td>Followup_call</td>\n",
       "      <td>Fri</td>\n",
       "      <td>NaN</td>\n",
       "      <td>14</td>\n",
       "      <td>NaN</td>\n",
       "    </tr>\n",
       "  </tbody>\n",
       "</table>\n",
       "</div>"
      ],
      "text/plain": [
       "     level_0        level_1 level_2  Calls Made  Successful Payment  \\\n",
       "0 2018-01-12       1st_call     Fri      3513.0                 725   \n",
       "1 2018-01-12  Followup_call     Fri       272.0                  33   \n",
       "2 2018-01-13       1st_call     Fri         NaN                 456   \n",
       "3 2018-01-13       1st_call     Sat      3722.0                 726   \n",
       "4 2018-01-13  Followup_call     Fri         NaN                  14   \n",
       "\n",
       "   Percentage conversion  \n",
       "0              20.637632  \n",
       "1              12.132353  \n",
       "2                    NaN  \n",
       "3              19.505642  \n",
       "4                    NaN  "
      ]
     },
     "execution_count": 168,
     "metadata": {},
     "output_type": "execute_result"
    }
   ],
   "source": [
    "df_new.reset_index(inplace= True)\n",
    "df_new.head()"
   ]
  },
  {
   "cell_type": "code",
   "execution_count": 169,
   "metadata": {},
   "outputs": [
    {
     "data": {
      "text/html": [
       "<div>\n",
       "<style scoped>\n",
       "    .dataframe tbody tr th:only-of-type {\n",
       "        vertical-align: middle;\n",
       "    }\n",
       "\n",
       "    .dataframe tbody tr th {\n",
       "        vertical-align: top;\n",
       "    }\n",
       "\n",
       "    .dataframe thead th {\n",
       "        text-align: right;\n",
       "    }\n",
       "</style>\n",
       "<table border=\"1\" class=\"dataframe\">\n",
       "  <thead>\n",
       "    <tr style=\"text-align: right;\">\n",
       "      <th></th>\n",
       "      <th>Call_date</th>\n",
       "      <th>Call_type</th>\n",
       "      <th>Weekday</th>\n",
       "      <th>Calls Made</th>\n",
       "      <th>Successful Payment</th>\n",
       "      <th>Percentage conversion</th>\n",
       "    </tr>\n",
       "  </thead>\n",
       "  <tbody>\n",
       "    <tr>\n",
       "      <td>0</td>\n",
       "      <td>2018-01-12</td>\n",
       "      <td>1st_call</td>\n",
       "      <td>Fri</td>\n",
       "      <td>3513.0</td>\n",
       "      <td>725</td>\n",
       "      <td>20.637632</td>\n",
       "    </tr>\n",
       "    <tr>\n",
       "      <td>1</td>\n",
       "      <td>2018-01-12</td>\n",
       "      <td>Followup_call</td>\n",
       "      <td>Fri</td>\n",
       "      <td>272.0</td>\n",
       "      <td>33</td>\n",
       "      <td>12.132353</td>\n",
       "    </tr>\n",
       "    <tr>\n",
       "      <td>2</td>\n",
       "      <td>2018-01-13</td>\n",
       "      <td>1st_call</td>\n",
       "      <td>Fri</td>\n",
       "      <td>NaN</td>\n",
       "      <td>456</td>\n",
       "      <td>NaN</td>\n",
       "    </tr>\n",
       "    <tr>\n",
       "      <td>3</td>\n",
       "      <td>2018-01-13</td>\n",
       "      <td>1st_call</td>\n",
       "      <td>Sat</td>\n",
       "      <td>3722.0</td>\n",
       "      <td>726</td>\n",
       "      <td>19.505642</td>\n",
       "    </tr>\n",
       "    <tr>\n",
       "      <td>4</td>\n",
       "      <td>2018-01-13</td>\n",
       "      <td>Followup_call</td>\n",
       "      <td>Fri</td>\n",
       "      <td>NaN</td>\n",
       "      <td>14</td>\n",
       "      <td>NaN</td>\n",
       "    </tr>\n",
       "  </tbody>\n",
       "</table>\n",
       "</div>"
      ],
      "text/plain": [
       "   Call_date      Call_type Weekday  Calls Made  Successful Payment  \\\n",
       "0 2018-01-12       1st_call     Fri      3513.0                 725   \n",
       "1 2018-01-12  Followup_call     Fri       272.0                  33   \n",
       "2 2018-01-13       1st_call     Fri         NaN                 456   \n",
       "3 2018-01-13       1st_call     Sat      3722.0                 726   \n",
       "4 2018-01-13  Followup_call     Fri         NaN                  14   \n",
       "\n",
       "   Percentage conversion  \n",
       "0              20.637632  \n",
       "1              12.132353  \n",
       "2                    NaN  \n",
       "3              19.505642  \n",
       "4                    NaN  "
      ]
     },
     "execution_count": 169,
     "metadata": {},
     "output_type": "execute_result"
    }
   ],
   "source": [
    "df_new.rename(columns={'level_0':'Call_date','level_1':'Call_type','level_2':'Weekday'},inplace= True)\n",
    "df_new.head()"
   ]
  },
  {
   "cell_type": "code",
   "execution_count": 162,
   "metadata": {},
   "outputs": [
    {
     "data": {
      "image/png": "[encoded data removed]",
      "text/plain": [
       "<Figure size 864x432 with 1 Axes>"
      ]
     },
     "metadata": {},
     "output_type": "display_data"
    }
   ],
   "source": [
    "fig= plt.figure(figsize=(12,6))\n",
    "sns.lineplot(x='Call_date',y='Percentage conversion',data=df_new, hue='Call_type')\n",
    "plt.tight_layout()"
   ]
  },
  {
   "cell_type": "markdown",
   "metadata": {},
   "source": [
    "### Percentage more than 100% signals that on that particular day more people paid their dues compared to the number of calls we made.\n",
    "### Here percentage conversion is higher for customers who got their 1st call compared to customers whom we followed up. Every 2 weeks we see a surge in customers payment who got follow up calls"
   ]
  },
  {
   "cell_type": "code",
   "execution_count": 164,
   "metadata": {},
   "outputs": [
    {
     "data": {
      "text/plain": [
       "Call Type\n",
       "1st_call         3.0\n",
       "Followup_call    9.0\n",
       "Name: Payment_time, dtype: float64"
      ]
     },
     "execution_count": 164,
     "metadata": {},
     "output_type": "execute_result"
    }
   ],
   "source": [
    "## median values for each type of call\n",
    "df[df['Payment_time'].notnull()].groupby('Call Type').median()['Payment_time']"
   ]
  },
  {
   "cell_type": "code",
   "execution_count": 165,
   "metadata": {},
   "outputs": [
    {
     "data": {
      "text/plain": [
       "Call Type\n",
       "1st_call          8.424624\n",
       "Followup_call    17.655356\n",
       "Name: Payment_time, dtype: float64"
      ]
     },
     "execution_count": 165,
     "metadata": {},
     "output_type": "execute_result"
    }
   ],
   "source": [
    "## Mean values for each type of call\n",
    "df[df['Payment_time'].notnull()].groupby('Call Type').mean()['Payment_time']"
   ]
  },
  {
   "cell_type": "markdown",
   "metadata": {},
   "source": [
    "# <font color='green'>Summary</font>"
   ]
  },
  {
   "cell_type": "markdown",
   "metadata": {},
   "source": [
    "### At an overall level, we observed that on an average (mean) a customer makes payment in ~12 days whereas 50% of the users pay in less than 5 days (Median distribution)\n",
    "### Since our data is right-skewed, we will consider median distribution\n",
    "### When we study the data more deeply, we find that 50% of the customers take 3 days to pay where call type is 'First_call' whereas 50% all those customers whom we 'follow up' takes 9 days to clear the dues"
   ]
  },
  {
   "cell_type": "markdown",
   "metadata": {},
   "source": [
    "# <font color='red'>Conclusion</font>\n",
    "## <font color='navy'>First payment call to a customer should be made on weekends and we should wait for 3 days for him to clear the dues. After that the follow up call will be made on 4th day. Third call should be scheduled 9 days after the 2nd call  i.e on 13th day. After 2nd call, all calls should be made after 9 days</font>"
   ]
  }
 ],
 "metadata": {
  "kernelspec": {
   "display_name": "Python 3",
   "language": "python",
   "name": "python3"
  },
  "language_info": {
   "codemirror_mode": {
    "name": "ipython",
    "version": 3
   },
   "file_extension": ".py",
   "mimetype": "text/x-python",
   "name": "python",
   "nbconvert_exporter": "python",
   "pygments_lexer": "ipython3",
   "version": "3.7.7"
  }
 },
 "nbformat": 4,
 "nbformat_minor": 2
}
